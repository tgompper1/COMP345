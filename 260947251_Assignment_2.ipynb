{
  "nbformat": 4,
  "nbformat_minor": 0,
  "metadata": {
    "colab": {
      "provenance": []
    },
    "kernelspec": {
      "name": "python3",
      "display_name": "Python 3"
    }
  },
  "cells": [
    {
      "cell_type": "markdown",
      "metadata": {
        "id": "jpPo-0zjUGkA"
      },
      "source": [
        "# Problem 1\n",
        "\n",
        "\n",
        "---\n",
        "\n"
      ]
    },
    {
      "cell_type": "markdown",
      "metadata": {
        "id": "EORfPYZbhqyf"
      },
      "source": [
        "\n",
        "Write regular expressions that match the output strings in the given set of input strings.\n",
        "\n",
        "\n",
        "#### Problem 1.1\n",
        "Input:\n",
        "```\n",
        "ababababab\n",
        "abb\n",
        "bbabaa\n",
        "bba\n",
        "abbabb\n",
        "```\n",
        "\n",
        "Output:\n",
        "```\n",
        "abb\n",
        "abbabb\n",
        "```\n",
        "\n",
        "Note: Do not use the regular expression which resembles `(word1|word2)` to handle each case individually. This defeats the purpose of the regular expression."
      ]
    },
    {
      "cell_type": "code",
      "metadata": {
        "id": "s3fasx98SqmM",
        "colab": {
          "base_uri": "https://localhost:8080/"
        },
        "outputId": "3a3d6ab7-2e23-4865-f2aa-ca18136cfbba"
      },
      "source": [
        "import re\n",
        "\n",
        "words = [\"ababababab\", \"abb\", \"bbabaa\", \"bba\", \"abbabb\"]\n",
        "pattern = re.compile(\"(abb)+\")\n",
        "for word in words:\n",
        "  if pattern.match(word):\n",
        "    print(word)"
      ],
      "execution_count": 1,
      "outputs": [
        {
          "output_type": "stream",
          "name": "stdout",
          "text": [
            "abb\n",
            "abbabb\n"
          ]
        }
      ]
    },
    {
      "cell_type": "markdown",
      "metadata": {
        "id": "alK7uvOIV0bn"
      },
      "source": [
        "#### Problem 1.2\n",
        "Input:\n",
        "```\n",
        "abc\n",
        "bc\n",
        "ab\n",
        "aabbcc\n",
        "abbbbbbbb\n",
        "ccbbaa\n",
        "```\n",
        "\n",
        "Output:\n",
        "```\n",
        "abc\n",
        "ab\n",
        "abbbbbbbb\n",
        "```"
      ]
    },
    {
      "cell_type": "code",
      "metadata": {
        "id": "iX-nXRtzWkKr",
        "colab": {
          "base_uri": "https://localhost:8080/"
        },
        "outputId": "f506405b-7dd9-4152-ed6b-361efcea86ca"
      },
      "source": [
        "import re\n",
        "\n",
        "words = [\"abc\", \"bc\", \"ab\", \"aabbcc\", \"abbbbbbbb\", \"ccbbaa\"]\n",
        "\n",
        "pattern = re.compile(\"ab+c?\")\n",
        "for word in words:\n",
        "  if pattern.match(word):\n",
        "    print(word)"
      ],
      "execution_count": 5,
      "outputs": [
        {
          "output_type": "stream",
          "name": "stdout",
          "text": [
            "abc\n",
            "ab\n",
            "abbbbbbbb\n"
          ]
        }
      ]
    },
    {
      "cell_type": "markdown",
      "metadata": {
        "id": "YvPLBmtpWvv6"
      },
      "source": [
        "#### Problem 1.3\n",
        "\n",
        "Input:\n",
        "```\n",
        "abc\n",
        "abbbbbbbb\n",
        "acc\n",
        "abcbcbcbc\n",
        "ac\n",
        "xzzyyyyzyzzzz\n",
        "accvvvvcvcccc\n",
        " ```\n",
        "\n",
        "Output:\n",
        "```\n",
        "abc\n",
        "abbbbbbbb\n",
        "abcbcbcbc\n",
        "```\n",
        "\n",
        "Note: Use positive strings to define the regular expression."
      ]
    },
    {
      "cell_type": "code",
      "metadata": {
        "id": "O91H-AuRZZGg",
        "colab": {
          "base_uri": "https://localhost:8080/"
        },
        "outputId": "ccf755d2-dd93-4731-aad6-da5b9e35e939"
      },
      "source": [
        "import re\n",
        "\n",
        "words = ['abc', 'abbbbbbbb', 'acc', 'abcbcbcbc', 'ac', 'xzzyyyyzyzzzz', 'accvvvvcvcccc']\n",
        "\n",
        "pattern = re.compile(\"a(b+|(bc)+)\")\n",
        "for word in words:\n",
        "  if pattern.match(word):\n",
        "    print(word)"
      ],
      "execution_count": 10,
      "outputs": [
        {
          "output_type": "stream",
          "name": "stdout",
          "text": [
            "abc\n",
            "abbbbbbbb\n",
            "abcbcbcbc\n"
          ]
        }
      ]
    },
    {
      "cell_type": "markdown",
      "metadata": {
        "id": "Sl29e2t8Zfnh"
      },
      "source": [
        "#### Problem 1.4\n",
        "\n",
        "Input:\n",
        "```\n",
        "x. y\n",
        "x?  Y\n",
        "x! y\n",
        "x y\n",
        "x.  Y\n",
        "x Y\n",
        "xY\n",
        "```\n",
        "\n",
        "Ouput:\n",
        "```\n",
        "x. y\n",
        "x?  Y\n",
        "x! y\n",
        "x.  Y\n",
        "```\n"
      ]
    },
    {
      "cell_type": "code",
      "metadata": {
        "id": "X1pJaNywZedv",
        "colab": {
          "base_uri": "https://localhost:8080/"
        },
        "outputId": "188e4133-4255-4964-dfa9-33bc5c5e319e"
      },
      "source": [
        "import re\n",
        "\n",
        "words = ['x. y', 'x?  Y', 'x! y', 'x y', 'x.  Y', 'x Y', 'xY']\n",
        "\n",
        "pattern = re.compile(\"x[.?!] +[yY]\")\n",
        "for word in words:\n",
        "  if pattern.match(word):\n",
        "    print(word)"
      ],
      "execution_count": 12,
      "outputs": [
        {
          "output_type": "stream",
          "name": "stdout",
          "text": [
            "x. y\n",
            "x?  Y\n",
            "x! y\n",
            "x.  Y\n"
          ]
        }
      ]
    },
    {
      "cell_type": "markdown",
      "metadata": {
        "id": "lWCIT3K_wYPH"
      },
      "source": [
        "#### Problem 1.5\n",
        "\n",
        "Input:\n",
        "\n",
        "```\n",
        "<html class=\"client-nojs\" lang=\"en\" dir=\"ltr\">\n",
        "<table class=\"infobox biota\" style=\"text-align: left; width: 200px; font-size: 100%\">\n",
        "<body class=\"ltr sitedir-ltr\">\n",
        "<div id=\"page-base\" class=\"noprint\">\n",
        "<a id=\"top\"></a>\n",
        "```\n",
        "\n",
        "Output:\n",
        "```\n",
        "tags:\n",
        "html\n",
        "table\n",
        "body\n",
        "div\n",
        "a\n",
        "\n",
        "keys:\n",
        "class\n",
        "lang\n",
        "dir\n",
        "style\n",
        "id\n",
        "\n",
        "values:\n",
        "client-nojs; infobox biota; ltr sitedir-ltr; noprint\n",
        "en\n",
        "ltr\n",
        "text-align: left; width: 200px; font-size: 100%\n",
        "page-base; top\n",
        "```\n",
        "\n",
        "Note: For this question, your code must either use either the function [re.group()](https://docs.python.org/3/library/re.html#re.Match.group) or [re.findall()](https://docs.python.org/3/library/re.html#re.findall) to find tags, keys and values. Do not write a separate regular expression for each input line (i.e., your code has to make use of the same regular expression for each line). The output should be exactly as above."
      ]
    },
    {
      "cell_type": "code",
      "metadata": {
        "id": "X0FT9S_Jvnbc",
        "colab": {
          "base_uri": "https://localhost:8080/"
        },
        "outputId": "3ece5f2d-b137-41e5-a2bc-5f368b8563b8"
      },
      "source": [
        "import re\n",
        "\n",
        "input_lines = ['<html class=\"client-nojs\" lang=\"en\" dir=\"ltr\">', '<table class=\"infobox biota\" style=\"text-align: left; width: 200px; font-size: 100%\">', '<body class=\"ltr sitedir-ltr\">', '<div id=\"page-base\" class=\"noprint\">', '<a id=\"top\"></a>']\n",
        "\n",
        "## can it be a separate regex for each of tags, keys and values? Can we use findall AND group?\n",
        "\n",
        "print('tags:')\n",
        "pattern = re.compile(\"<(\\w+).*\")\n",
        "for input_line in input_lines:\n",
        "  p = pattern.match(input_line)\n",
        "  print(p.group(1))\n",
        "\n",
        "print()\n",
        "print('keys:')\n",
        "keys = []\n",
        "for input_line in input_lines:\n",
        "  new_keys = re.findall(r'\\b(\\w+)(?=\\s*=\\s*\"[^\"]*\")', input_line)\n",
        "  for key in new_keys:\n",
        "    if key in keys:\n",
        "      continue\n",
        "    else:\n",
        "      keys.append(key)\n",
        "for key in keys:\n",
        "  print(key)\n",
        "\n",
        "print()\n",
        "print('values:')\n",
        "values = []\n",
        "delim = \"; \"\n",
        "vals_dict = dict()\n",
        "for input_line in input_lines:\n",
        "  values.extend(re.findall(r'(\\w+)\\s*=\\s*\"([^\"]*)\"', input_line))\n",
        "for key, value in values:\n",
        "  vals_dict.setdefault(key, []).append(value)\n",
        "keys = vals_dict.keys()\n",
        "for key in keys:\n",
        "  vals = vals_dict.get(key)\n",
        "  print(delim.join([str(val) for val in vals]))\n"
      ],
      "execution_count": 38,
      "outputs": [
        {
          "output_type": "stream",
          "name": "stdout",
          "text": [
            "tags:\n",
            "html\n",
            "table\n",
            "body\n",
            "div\n",
            "a\n",
            "\n",
            "keys:\n",
            "class\n",
            "lang\n",
            "dir\n",
            "style\n",
            "id\n",
            "\n",
            "values:\n",
            "client-nojs; infobox biota; ltr sitedir-ltr; noprint\n",
            "en\n",
            "ltr\n",
            "text-align: left; width: 200px; font-size: 100%\n",
            "page-base; top\n"
          ]
        }
      ]
    },
    {
      "cell_type": "markdown",
      "metadata": {
        "id": "0SehLKyuQM4Q"
      },
      "source": [
        "\n",
        "\n",
        "## Problem 2 and 3\n",
        "\n",
        "See https://docs.google.com/document/d/1KRnEequL1kJcngDNOvmTzX5iuy88J8IRWTETujsVgAQ/edit?usp=sharing\n",
        "\n"
      ]
    },
    {
      "cell_type": "code",
      "source": [],
      "metadata": {
        "id": "5HMg52QT9GdI"
      },
      "execution_count": null,
      "outputs": []
    }
  ]
}